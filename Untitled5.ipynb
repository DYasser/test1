{
 "cells": [
  {
   "cell_type": "code",
   "execution_count": null,
   "id": "c602422b-ee8d-4871-91bf-e2317f119554",
   "metadata": {},
   "outputs": [],
   "source": []
  }
 ],
 "metadata": {
  "kernelspec": {
   "display_name": "",
   "name": ""
  },
  "language_info": {
   "name": ""
  }
 },
 "nbformat": 4,
 "nbformat_minor": 5
}
